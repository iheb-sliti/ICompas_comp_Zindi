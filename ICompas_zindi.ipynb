{
  "nbformat": 4,
  "nbformat_minor": 0,
  "metadata": {
    "colab": {
      "name": "ICompas_zindi.ipynb",
      "provenance": []
    },
    "kernelspec": {
      "display_name": "Python 3",
      "language": "python",
      "name": "python3"
    },
    "language_info": {
      "codemirror_mode": {
        "name": "ipython",
        "version": 3
      },
      "file_extension": ".py",
      "mimetype": "text/x-python",
      "name": "python",
      "nbconvert_exporter": "python",
      "pygments_lexer": "ipython3",
      "version": "3.7.6"
    }
  },
  "cells": [
    {
      "cell_type": "code",
      "metadata": {
        "colab": {
          "base_uri": "https://localhost:8080/"
        },
        "collapsed": true,
        "id": "eaWJyTrHjiGW",
        "outputId": "0a7b712c-7754-4212-bc56-12adea2e633e"
      },
      "source": [
        "import pandas as pd\n",
        "import numpy as np\n",
        "import re\n",
        "import string\n",
        "from nltk.corpus import stopwords\n",
        "from nltk.tokenize import word_tokenize\n",
        "from sklearn.feature_extraction.text import TfidfVectorizer,CountVectorizer\n",
        "from sklearn.model_selection import train_test_split,StratifiedKFold\n",
        "from nltk.stem import PorterStemmer\n",
        "from nltk.stem import WordNetLemmatizer\n",
        "# ML Libraries\n",
        "from sklearn.metrics import accuracy_score\n",
        "from sklearn.naive_bayes import MultinomialNB\n",
        "from sklearn.linear_model import LogisticRegression\n",
        "from sklearn.svm import SVC\n",
        "from sklearn import linear_model\n",
        "from sklearn.pipeline import make_pipeline, Pipeline\n",
        "import nltk\n",
        "from sklearn.model_selection import GridSearchCV\n",
        "nltk.download('stopwords')\n",
        "from textblob import TextBlob\n",
        "from sklearn.metrics import classification_report, confusion_matrix  \n",
        "# Global Parameters\n",
        "stop_words = set(stopwords.words('french'))\n",
        "import nltk\n",
        "nltk.download('punkt')\n",
        "nltk.download('wordnet')"
      ],
      "execution_count": null,
      "outputs": [
        {
          "output_type": "stream",
          "text": [
            "[nltk_data] Downloading package stopwords to /root/nltk_data...\n",
            "[nltk_data]   Package stopwords is already up-to-date!\n",
            "[nltk_data] Downloading package punkt to /root/nltk_data...\n",
            "[nltk_data]   Package punkt is already up-to-date!\n",
            "[nltk_data] Downloading package wordnet to /root/nltk_data...\n",
            "[nltk_data]   Package wordnet is already up-to-date!\n"
          ],
          "name": "stdout"
        },
        {
          "output_type": "execute_result",
          "data": {
            "text/plain": [
              "True"
            ]
          },
          "metadata": {
            "tags": []
          },
          "execution_count": 22
        }
      ]
    },
    {
      "cell_type": "code",
      "metadata": {
        "id": "vfk5ciROjiGf"
      },
      "source": [
        "def load_dataset(filename, cols):\n",
        "    dataset = pd.read_csv(filename, encoding='latin-1')\n",
        "    dataset.columns = cols\n",
        "    return dataset"
      ],
      "execution_count": null,
      "outputs": []
    },
    {
      "cell_type": "code",
      "metadata": {
        "id": "SOOQGKi6jiGg"
      },
      "source": [
        "dataset = load_dataset(\"/content/Train (7).csv\",['ID','text','label'])"
      ],
      "execution_count": null,
      "outputs": []
    },
    {
      "cell_type": "code",
      "metadata": {
        "colab": {
          "base_uri": "https://localhost:8080/",
          "height": 198
        },
        "id": "pgvugbu1jiGh",
        "outputId": "a400faeb-6bc1-46d1-ad6d-7a06d79fc172"
      },
      "source": [
        "dataset.head()"
      ],
      "execution_count": null,
      "outputs": [
        {
          "output_type": "execute_result",
          "data": {
            "text/html": [
              "<div>\n",
              "<style scoped>\n",
              "    .dataframe tbody tr th:only-of-type {\n",
              "        vertical-align: middle;\n",
              "    }\n",
              "\n",
              "    .dataframe tbody tr th {\n",
              "        vertical-align: top;\n",
              "    }\n",
              "\n",
              "    .dataframe thead th {\n",
              "        text-align: right;\n",
              "    }\n",
              "</style>\n",
              "<table border=\"1\" class=\"dataframe\">\n",
              "  <thead>\n",
              "    <tr style=\"text-align: right;\">\n",
              "      <th></th>\n",
              "      <th>ID</th>\n",
              "      <th>text</th>\n",
              "      <th>label</th>\n",
              "    </tr>\n",
              "  </thead>\n",
              "  <tbody>\n",
              "    <tr>\n",
              "      <th>0</th>\n",
              "      <td>13P0QT0</td>\n",
              "      <td>3sbaaaaaaaaaaaaaaaaaaaa lek ou le seim riahi o...</td>\n",
              "      <td>-1</td>\n",
              "    </tr>\n",
              "    <tr>\n",
              "      <th>1</th>\n",
              "      <td>SKCLXCJ</td>\n",
              "      <td>cha3eb fey9elkoum menghir ta7ayoul ou kressi</td>\n",
              "      <td>-1</td>\n",
              "    </tr>\n",
              "    <tr>\n",
              "      <th>2</th>\n",
              "      <td>V1TVXIJ</td>\n",
              "      <td>bereau degage nathef ya slim walahi ya7chiw fi...</td>\n",
              "      <td>-1</td>\n",
              "    </tr>\n",
              "    <tr>\n",
              "      <th>3</th>\n",
              "      <td>U0TTYY8</td>\n",
              "      <td>ak slouma</td>\n",
              "      <td>1</td>\n",
              "    </tr>\n",
              "    <tr>\n",
              "      <th>4</th>\n",
              "      <td>68DX797</td>\n",
              "      <td>entom titmanou lina a7na 3iid moubarik a7na ch...</td>\n",
              "      <td>-1</td>\n",
              "    </tr>\n",
              "  </tbody>\n",
              "</table>\n",
              "</div>"
            ],
            "text/plain": [
              "        ID                                               text  label\n",
              "0  13P0QT0  3sbaaaaaaaaaaaaaaaaaaaa lek ou le seim riahi o...     -1\n",
              "1  SKCLXCJ       cha3eb fey9elkoum menghir ta7ayoul ou kressi     -1\n",
              "2  V1TVXIJ  bereau degage nathef ya slim walahi ya7chiw fi...     -1\n",
              "3  U0TTYY8                                          ak slouma      1\n",
              "4  68DX797  entom titmanou lina a7na 3iid moubarik a7na ch...     -1"
            ]
          },
          "metadata": {
            "tags": []
          },
          "execution_count": 5
        }
      ]
    },
    {
      "cell_type": "code",
      "metadata": {
        "colab": {
          "base_uri": "https://localhost:8080/"
        },
        "id": "JUCVbcSpjiGh",
        "outputId": "20f54a68-986b-4b00-9bf0-e0dacf83585d"
      },
      "source": [
        "dataset.shape"
      ],
      "execution_count": null,
      "outputs": [
        {
          "output_type": "execute_result",
          "data": {
            "text/plain": [
              "(70000, 3)"
            ]
          },
          "metadata": {
            "tags": []
          },
          "execution_count": 6
        }
      ]
    },
    {
      "cell_type": "code",
      "metadata": {
        "id": "USsCWsoJjiGi"
      },
      "source": [
        "def remove_unwanted_cols(dataset, cols):\n",
        "    for col in cols:\n",
        "        del dataset[col]\n",
        "    return dataset"
      ],
      "execution_count": null,
      "outputs": []
    },
    {
      "cell_type": "code",
      "metadata": {
        "id": "LnvFOFC4jiGk"
      },
      "source": [
        "def preprocess_text(tweet):\n",
        "    tweet.lower()\n",
        "    # Remove urls\n",
        "    tweet = re.sub(r\"http\\S+|www\\S+|https\\S+\", '', tweet, flags=re.MULTILINE)\n",
        "    # Remove user @ references and '#' from tweet\n",
        "    tweet = re.sub(r'\\@\\w+|\\#','', tweet)\n",
        "    # Remove punctuations\n",
        "    tweet = tweet.translate(str.maketrans('', '', string.punctuation))\n",
        "    # Remove stopwords\n",
        "    tweet_tokens = word_tokenize(tweet)\n",
        "    filtered_words = [w for w in tweet_tokens if not w in stop_words]\n",
        "    # stemming&lemmmatizing\n",
        "    ps = PorterStemmer()\n",
        "    stemmed_words = [ps.stem(w) for w in filtered_words]\n",
        "    \n",
        "    return \" \".join(filtered_words)"
      ],
      "execution_count": null,
      "outputs": []
    },
    {
      "cell_type": "code",
      "metadata": {
        "id": "La54_CHyjiGk"
      },
      "source": [
        "dataset['text']=dataset['text'].apply(lambda x : preprocess_text(x))"
      ],
      "execution_count": null,
      "outputs": []
    },
    {
      "cell_type": "code",
      "metadata": {
        "id": "4p2r6pwvjiGk"
      },
      "source": [
        "def remove_emoji(text):\n",
        "    emoji_pattern = re.compile(\"[\"\n",
        "                           u\"\\U0001F600-\\U0001F64F\"  # emoticons\n",
        "                           u\"\\U0001F300-\\U0001F5FF\"  # symbols & pictographs\n",
        "                           u\"\\U0001F680-\\U0001F6FF\"  # transport & map symbols\n",
        "                           u\"\\U0001F1E0-\\U0001F1FF\"  # flags (iOS)\n",
        "                           u\"\\U00002702-\\U000027B0\"\n",
        "                           u\"\\U000024C2-\\U0001F251\"\n",
        "                           \"]+\", flags=re.UNICODE)\n",
        "    return emoji_pattern.sub(r'', text)"
      ],
      "execution_count": null,
      "outputs": []
    },
    {
      "cell_type": "code",
      "metadata": {
        "id": "uwMiR-97jiGl"
      },
      "source": [
        "dataset['text']=dataset['text'].apply(lambda x : remove_emoji(x))"
      ],
      "execution_count": null,
      "outputs": []
    },
    {
      "cell_type": "code",
      "metadata": {
        "id": "SpMd6xNrjiGl"
      },
      "source": [
        "def remove_html(text):\n",
        "    html=re.compile(r'<.*?>')\n",
        "    return html.sub(r'',text)"
      ],
      "execution_count": null,
      "outputs": []
    },
    {
      "cell_type": "code",
      "metadata": {
        "id": "Z1i4FHuejiGl"
      },
      "source": [
        "dataset['text']=dataset['text'].apply(lambda x : remove_html(x))"
      ],
      "execution_count": null,
      "outputs": []
    },
    {
      "cell_type": "code",
      "metadata": {
        "id": "5PFglJuCjiGm"
      },
      "source": [
        "def get_feature_vector(train_fit):\n",
        "    vector = TfidfVectorizer(encoding='utf-8',\n",
        "                       ngram_range=(1,1),\n",
        "                       max_features=5000,\n",
        "                       norm='l2',sublinear_tf=True)\n",
        "    vector.fit(train_fit)\n",
        "    return vector"
      ],
      "execution_count": null,
      "outputs": []
    },
    {
      "cell_type": "code",
      "metadata": {
        "colab": {
          "base_uri": "https://localhost:8080/",
          "height": 198
        },
        "collapsed": true,
        "id": "WdQyJf8UjiGm",
        "outputId": "51f58258-6fad-4ab4-c337-691b5e2a22fb"
      },
      "source": [
        "# Load dataset\n",
        "dataset = remove_unwanted_cols(dataset,['ID'])\n",
        "#Preprocess data\n",
        "dataset.text = dataset['text'].apply(preprocess_text)\n",
        "dataset.head()"
      ],
      "execution_count": null,
      "outputs": [
        {
          "output_type": "execute_result",
          "data": {
            "text/html": [
              "<div>\n",
              "<style scoped>\n",
              "    .dataframe tbody tr th:only-of-type {\n",
              "        vertical-align: middle;\n",
              "    }\n",
              "\n",
              "    .dataframe tbody tr th {\n",
              "        vertical-align: top;\n",
              "    }\n",
              "\n",
              "    .dataframe thead th {\n",
              "        text-align: right;\n",
              "    }\n",
              "</style>\n",
              "<table border=\"1\" class=\"dataframe\">\n",
              "  <thead>\n",
              "    <tr style=\"text-align: right;\">\n",
              "      <th></th>\n",
              "      <th>text</th>\n",
              "      <th>label</th>\n",
              "    </tr>\n",
              "  </thead>\n",
              "  <tbody>\n",
              "    <tr>\n",
              "      <th>0</th>\n",
              "      <td>3sbaaaaaaaaaaaaaaaaaaaa lek seim riahi 3sbaaaa...</td>\n",
              "      <td>-1</td>\n",
              "    </tr>\n",
              "    <tr>\n",
              "      <th>1</th>\n",
              "      <td>cha3eb fey9elkoum menghir ta7ayoul kressi</td>\n",
              "      <td>-1</td>\n",
              "    </tr>\n",
              "    <tr>\n",
              "      <th>2</th>\n",
              "      <td>bereau degage nathef ya slim walahi ya7chiw fi...</td>\n",
              "      <td>-1</td>\n",
              "    </tr>\n",
              "    <tr>\n",
              "      <th>3</th>\n",
              "      <td>ak slouma</td>\n",
              "      <td>1</td>\n",
              "    </tr>\n",
              "    <tr>\n",
              "      <th>4</th>\n",
              "      <td>entom titmanou lina a7na 3iid moubarik a7na ch...</td>\n",
              "      <td>-1</td>\n",
              "    </tr>\n",
              "  </tbody>\n",
              "</table>\n",
              "</div>"
            ],
            "text/plain": [
              "                                                text  label\n",
              "0  3sbaaaaaaaaaaaaaaaaaaaa lek seim riahi 3sbaaaa...     -1\n",
              "1          cha3eb fey9elkoum menghir ta7ayoul kressi     -1\n",
              "2  bereau degage nathef ya slim walahi ya7chiw fi...     -1\n",
              "3                                          ak slouma      1\n",
              "4  entom titmanou lina a7na 3iid moubarik a7na ch...     -1"
            ]
          },
          "metadata": {
            "tags": []
          },
          "execution_count": 17
        }
      ]
    },
    {
      "cell_type": "code",
      "metadata": {
        "id": "VzR_LjHCjiGn"
      },
      "source": [
        "# Split dataset into Train,Test\n",
        "# Same tf vector will be used for Testing sentiments on unseen trending data\n",
        "tf_vector = get_feature_vector(np.array(dataset.iloc[:,0]).ravel())\n",
        "X = tf_vector.transform(np.array(dataset.iloc[:,0]).ravel())\n",
        "y = np.array(dataset.iloc[:,1]).ravel()\n",
        "X_train, X_test, y_train, y_test = train_test_split(X, y, test_size=0.2, random_state=30)"
      ],
      "execution_count": null,
      "outputs": []
    },
    {
      "cell_type": "code",
      "metadata": {
        "id": "ZlLBT1fHpYP6"
      },
      "source": [
        "#from sklearn.model_selection import GridSearchCV"
      ],
      "execution_count": null,
      "outputs": []
    },
    {
      "cell_type": "code",
      "metadata": {
        "id": "I_GM1bYHseZa"
      },
      "source": [
        "#param_grid = {'C': [0.1,1, 10, 100], 'gamma': [1,0.1,0.01,0.001],'kernel': ['rbf', 'poly', 'sigmoid']}"
      ],
      "execution_count": null,
      "outputs": []
    },
    {
      "cell_type": "code",
      "metadata": {
        "id": "Eqsum0PoskxJ"
      },
      "source": [
        "#print(grid.best_estimator_)"
      ],
      "execution_count": null,
      "outputs": []
    },
    {
      "cell_type": "code",
      "metadata": {
        "colab": {
          "background_save": true
        },
        "id": "nDDgCB0CsqGi",
        "outputId": "c3c7bf3f-aa2f-439c-c5be-7e2044a6f549"
      },
      "source": [
        "#grid_predictions = grid.predict(X_test)\r\n",
        "#print(confusion_matrix(y_test,grid_predictions))"
      ],
      "execution_count": null,
      "outputs": [
        {
          "output_type": "stream",
          "text": [
            "[[1947    5 1301]\n",
            " [ 227    9  662]\n",
            " [ 461   11 7259]]\n"
          ],
          "name": "stdout"
        }
      ]
    },
    {
      "cell_type": "code",
      "metadata": {
        "id": "nodjFUlIjiGn"
      },
      "source": [
        "clf=SVC()\n",
        "clf.fit(X_train, y_train)\n",
        "y_predict_clf = clf.predict(X_test)\n",
        "print(accuracy_score(y_test, y_predict_clf))"
      ],
      "execution_count": null,
      "outputs": []
    },
    {
      "cell_type": "code",
      "metadata": {
        "id": "9xwy4KzcjiGn",
        "colab": {
          "base_uri": "https://localhost:8080/",
          "height": 198
        },
        "outputId": "9874f282-bb37-4bef-ce35-4ed6dd8c1e97"
      },
      "source": [
        "test_file_name = \"/content/Test (7).csv\"\n",
        "test_ds = load_dataset(test_file_name, [\"ID\",\"text\"])\n",
        "test_ds = remove_unwanted_cols(test_ds, [\"ID\"])\n",
        "test_ds.head()"
      ],
      "execution_count": null,
      "outputs": [
        {
          "output_type": "execute_result",
          "data": {
            "text/html": [
              "<div>\n",
              "<style scoped>\n",
              "    .dataframe tbody tr th:only-of-type {\n",
              "        vertical-align: middle;\n",
              "    }\n",
              "\n",
              "    .dataframe tbody tr th {\n",
              "        vertical-align: top;\n",
              "    }\n",
              "\n",
              "    .dataframe thead th {\n",
              "        text-align: right;\n",
              "    }\n",
              "</style>\n",
              "<table border=\"1\" class=\"dataframe\">\n",
              "  <thead>\n",
              "    <tr style=\"text-align: right;\">\n",
              "      <th></th>\n",
              "      <th>text</th>\n",
              "    </tr>\n",
              "  </thead>\n",
              "  <tbody>\n",
              "    <tr>\n",
              "      <th>0</th>\n",
              "      <td>barcha aaindou fiha hak w barcha teflim kadhalik</td>\n",
              "    </tr>\n",
              "    <tr>\n",
              "      <th>1</th>\n",
              "      <td>ye gernabou ye 9a7ba</td>\n",
              "    </tr>\n",
              "    <tr>\n",
              "      <th>2</th>\n",
              "      <td>saber w barra rabbi m3ak 5ouya</td>\n",
              "    </tr>\n",
              "    <tr>\n",
              "      <th>3</th>\n",
              "      <td>cha3Ã©bbb ta7aaaaannnnnnnnnnn tfouuhh</td>\n",
              "    </tr>\n",
              "    <tr>\n",
              "      <th>4</th>\n",
              "      <td>rabi y5alihoulek w yfar7ek bih w inchallah itc...</td>\n",
              "    </tr>\n",
              "  </tbody>\n",
              "</table>\n",
              "</div>"
            ],
            "text/plain": [
              "                                                text\n",
              "0   barcha aaindou fiha hak w barcha teflim kadhalik\n",
              "1                               ye gernabou ye 9a7ba\n",
              "2                     saber w barra rabbi m3ak 5ouya\n",
              "3              cha3Ã©bbb ta7aaaaannnnnnnnnnn tfouuhh\n",
              "4  rabi y5alihoulek w yfar7ek bih w inchallah itc..."
            ]
          },
          "metadata": {
            "tags": []
          },
          "execution_count": 23
        }
      ]
    },
    {
      "cell_type": "code",
      "metadata": {
        "id": "Ok7cj8CGjiGo",
        "colab": {
          "base_uri": "https://localhost:8080/"
        },
        "outputId": "7eba2f18-ae88-4acd-9b64-def0b1728e0a"
      },
      "source": [
        "# Creating text feature\n",
        "test_ds.text = test_ds[\"text\"].apply(preprocess_text)\n",
        "test_feature = tf_vector.transform(np.array(test_ds.iloc[:,0]).ravel())\n",
        "# Using svm for prediction\n",
        "test_prediction_clf = clf.predict(test_feature)\n",
        "print(test_prediction_clf)"
      ],
      "execution_count": null,
      "outputs": [
        {
          "output_type": "stream",
          "text": [
            "[-1 -1  1 ...  1 -1  1]\n"
          ],
          "name": "stdout"
        }
      ]
    },
    {
      "cell_type": "code",
      "metadata": {
        "id": "naKn-VmCjiGo"
      },
      "source": [
        "# Submission\n",
        "test_ds= \"/content/Test (7).csv\"\n",
        "submission = load_dataset(test_ds, [\"ID\",\"label\"])\n",
        "submission[\"label\"] =test_prediction_clf\n",
        "submission.to_csv(\"submission.csv\",index=False)"
      ],
      "execution_count": null,
      "outputs": []
    },
    {
      "cell_type": "code",
      "metadata": {
        "id": "ewBTdEcUjiGo",
        "colab": {
          "base_uri": "https://localhost:8080/",
          "height": 198
        },
        "outputId": "10c79852-d2a3-4145-c337-2ccb5495ceef"
      },
      "source": [
        "submission.head()"
      ],
      "execution_count": null,
      "outputs": [
        {
          "output_type": "execute_result",
          "data": {
            "text/html": [
              "<div>\n",
              "<style scoped>\n",
              "    .dataframe tbody tr th:only-of-type {\n",
              "        vertical-align: middle;\n",
              "    }\n",
              "\n",
              "    .dataframe tbody tr th {\n",
              "        vertical-align: top;\n",
              "    }\n",
              "\n",
              "    .dataframe thead th {\n",
              "        text-align: right;\n",
              "    }\n",
              "</style>\n",
              "<table border=\"1\" class=\"dataframe\">\n",
              "  <thead>\n",
              "    <tr style=\"text-align: right;\">\n",
              "      <th></th>\n",
              "      <th>ID</th>\n",
              "      <th>label</th>\n",
              "    </tr>\n",
              "  </thead>\n",
              "  <tbody>\n",
              "    <tr>\n",
              "      <th>0</th>\n",
              "      <td>2DDHQW9</td>\n",
              "      <td>-1</td>\n",
              "    </tr>\n",
              "    <tr>\n",
              "      <th>1</th>\n",
              "      <td>5HY6UEY</td>\n",
              "      <td>-1</td>\n",
              "    </tr>\n",
              "    <tr>\n",
              "      <th>2</th>\n",
              "      <td>ATNVUJX</td>\n",
              "      <td>1</td>\n",
              "    </tr>\n",
              "    <tr>\n",
              "      <th>3</th>\n",
              "      <td>Q9XYVOQ</td>\n",
              "      <td>1</td>\n",
              "    </tr>\n",
              "    <tr>\n",
              "      <th>4</th>\n",
              "      <td>TOAHLRH</td>\n",
              "      <td>1</td>\n",
              "    </tr>\n",
              "  </tbody>\n",
              "</table>\n",
              "</div>"
            ],
            "text/plain": [
              "        ID  label\n",
              "0  2DDHQW9     -1\n",
              "1  5HY6UEY     -1\n",
              "2  ATNVUJX      1\n",
              "3  Q9XYVOQ      1\n",
              "4  TOAHLRH      1"
            ]
          },
          "metadata": {
            "tags": []
          },
          "execution_count": 31
        }
      ]
    }
  ]
}